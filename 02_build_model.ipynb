{
 "cells": [
  {
   "cell_type": "markdown",
   "metadata": {},
   "source": [
    "# Building the model"
   ]
  },
  {
   "cell_type": "markdown",
   "metadata": {},
   "source": [
    "The model is an ensemble of:\n",
    "\n",
    "* a decision tree that tries to capture the [\"women and children first\"](https://en.wikipedia.org/wiki/Women_and_children_first) protocol,\n",
    "\n",
    "* support vector machines, and\n",
    "\n",
    "* a random forest classifier.\n",
    "\n",
    "The predicted class is decided with majority voting. \n",
    "\n",
    "Decision trees are used to impute missing `Fare` and `Age` values before building the model."
   ]
  },
  {
   "cell_type": "code",
   "execution_count": 1,
   "metadata": {
    "collapsed": false,
    "scrolled": true
   },
   "outputs": [],
   "source": [
    "import random\n",
    "import pprint\n",
    "\n",
    "import numpy as np\n",
    "import pandas as pd\n",
    "import patsy\n",
    "\n",
    "from sklearn.pipeline import Pipeline, make_pipeline\n",
    "from sklearn.tree import DecisionTreeRegressor, DecisionTreeClassifier\n",
    "from sklearn.svm import SVC\n",
    "from sklearn.ensemble import RandomForestClassifier, VotingClassifier\n",
    "from sklearn.grid_search import GridSearchCV\n",
    "\n",
    "from util import get_random_seed, ModelImputer, ColumnSelector"
   ]
  },
  {
   "cell_type": "markdown",
   "metadata": {},
   "source": [
    "## Random seeds"
   ]
  },
  {
   "cell_type": "code",
   "execution_count": 2,
   "metadata": {
    "collapsed": false,
    "scrolled": true
   },
   "outputs": [],
   "source": [
    "# random_seed = get_random_seed()\n",
    "# print('np.random.seed:', random_seed)\n",
    "np.random.seed(762272023)\n",
    "\n",
    "# random_seed = get_random_seed()\n",
    "# print('random.seed:', random_seed)\n",
    "random.seed(152070533)"
   ]
  },
  {
   "cell_type": "markdown",
   "metadata": {},
   "source": [
    "## Load training data"
   ]
  },
  {
   "cell_type": "code",
   "execution_count": 3,
   "metadata": {
    "collapsed": false
   },
   "outputs": [],
   "source": [
    "train_data = pd.read_csv('clean_data/train.csv')\n",
    "\n",
    "formula = 'Survived ~ Embarked + Class + Cabin + Fare + Title + Sex + Age + Relatives - 1'\n",
    "y_train, X_train = patsy.dmatrices(formula, train_data)"
   ]
  },
  {
   "cell_type": "markdown",
   "metadata": {},
   "source": [
    "Save the indices of the columns used as parameters in the model pipeline below."
   ]
  },
  {
   "cell_type": "code",
   "execution_count": 4,
   "metadata": {
    "collapsed": false
   },
   "outputs": [],
   "source": [
    "columns = pd.DataFrame({'Column': X_train.design_info.column_names})\n",
    "Age = columns.index[columns['Column'] == 'Age'].tolist()[0]\n",
    "Sex = columns.index[columns['Column'] == 'Sex[T.male]'].tolist()[0]\n",
    "Fare = columns.index[columns['Column'] == 'Fare'].tolist()[0]"
   ]
  },
  {
   "cell_type": "markdown",
   "metadata": {},
   "source": [
    "## Build the model pipeline"
   ]
  },
  {
   "cell_type": "code",
   "execution_count": 5,
   "metadata": {
    "collapsed": false
   },
   "outputs": [],
   "source": [
    "ensemble = VotingClassifier(voting='hard', estimators=[\n",
    "    ('women_and_children', make_pipeline(ColumnSelector([Sex, Age]), \n",
    "                                         DecisionTreeClassifier())),\n",
    "    ('svm', SVC(kernel='rbf')),\n",
    "    ('rf', RandomForestClassifier()), \n",
    "])\n",
    "\n",
    "complete_columns = [i for i in range(columns.shape[1]) if i not in (Fare, Age)]\n",
    "\n",
    "pipeline = Pipeline([\n",
    "    ('fare_imputer', ModelImputer(DecisionTreeRegressor(), Fare, \n",
    "                                  complete_columns)),\n",
    "    ('age_imputer', ModelImputer(DecisionTreeRegressor(), Age, \n",
    "                                 complete_columns + [Fare])),\n",
    "    ('ensemble', ensemble),\n",
    "])"
   ]
  },
  {
   "cell_type": "markdown",
   "metadata": {},
   "source": [
    "## Estimate the model parameters"
   ]
  },
  {
   "cell_type": "code",
   "execution_count": 6,
   "metadata": {
    "collapsed": false,
    "scrolled": false
   },
   "outputs": [
    {
     "name": "stdout",
     "output_type": "stream",
     "text": [
      "Fitting 10 folds for each of 400 candidates, totalling 4000 fits\n"
     ]
    },
    {
     "name": "stderr",
     "output_type": "stream",
     "text": [
      "[Parallel(n_jobs=-1)]: Done 144 tasks      | elapsed:    3.0s\n",
      "[Parallel(n_jobs=-1)]: Done 744 tasks      | elapsed:   21.4s\n",
      "[Parallel(n_jobs=-1)]: Done 1134 tasks      | elapsed:  1.1min\n",
      "[Parallel(n_jobs=-1)]: Done 1833 tasks      | elapsed:  1.5min\n",
      "[Parallel(n_jobs=-1)]: Done 2557 tasks      | elapsed:  2.4min\n",
      "[Parallel(n_jobs=-1)]: Done 3246 tasks      | elapsed:  3.3min\n",
      "[Parallel(n_jobs=-1)]: Done 3896 tasks      | elapsed:  3.8min\n",
      "[Parallel(n_jobs=-1)]: Done 4000 out of 4000 | elapsed:  4.3min finished\n"
     ]
    },
    {
     "name": "stdout",
     "output_type": "stream",
     "text": [
      "Best score: 0.838020247469\n",
      "Best weights:\n",
      "{'ensemble__rf__n_estimators': 17,\n",
      " 'ensemble__svm__C': 2154.4346900318824,\n",
      " 'ensemble__svm__gamma': 0.0001}\n"
     ]
    }
   ],
   "source": [
    "param_grid = {\n",
    "    'ensemble__svm__C': np.logspace(-2, 4, 10),\n",
    "    'ensemble__svm__gamma': np.logspace(-4, 2, 10),\n",
    "    'ensemble__rf__n_estimators': [5, 11, 17, 23],\n",
    "}\n",
    "\n",
    "model = GridSearchCV(pipeline, param_grid, cv=10, n_jobs=-1, verbose=1)\n",
    "model.fit(np.asarray(X_train), np.asarray(y_train.ravel()))\n",
    "\n",
    "print('Best score:', model.best_score_)\n",
    "print('Best weights:', pprint.pformat(model.best_params_), sep='\\n')"
   ]
  },
  {
   "cell_type": "markdown",
   "metadata": {},
   "source": [
    "## Create a submission"
   ]
  },
  {
   "cell_type": "code",
   "execution_count": 7,
   "metadata": {
    "collapsed": false
   },
   "outputs": [],
   "source": [
    "test_data = pd.read_csv('clean_data/test.csv')\n",
    "\n",
    "X_test = patsy.build_design_matrices([X_train.design_info], test_data)[0]\n",
    "y_test = model.predict(X_test)\n",
    "\n",
    "submission = pd.DataFrame({'PassengerId': test_data['PassengerId'], \n",
    "                           'Survived': y_test}, dtype=int)\n",
    "submission.to_csv('submission/submission.csv', index=False)"
   ]
  }
 ],
 "metadata": {
  "kernelspec": {
   "display_name": "Python 3",
   "language": "python",
   "name": "python3"
  },
  "language_info": {
   "codemirror_mode": {
    "name": "ipython",
    "version": 3
   },
   "file_extension": ".py",
   "mimetype": "text/x-python",
   "name": "python",
   "nbconvert_exporter": "python",
   "pygments_lexer": "ipython3",
   "version": "3.4.2"
  }
 },
 "nbformat": 4,
 "nbformat_minor": 0
}
