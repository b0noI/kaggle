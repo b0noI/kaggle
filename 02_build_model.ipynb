{
 "cells": [
  {
   "cell_type": "markdown",
   "metadata": {},
   "source": [
    "# Building the model"
   ]
  },
  {
   "cell_type": "code",
   "execution_count": 1,
   "metadata": {
    "collapsed": false
   },
   "outputs": [
    {
     "name": "stderr",
     "output_type": "stream",
     "text": [
      "/home/yasserglez/.virtualenvs/kaggle_titanic/lib/python3.4/site-packages/matplotlib/__init__.py:872: UserWarning: axes.color_cycle is deprecated and replaced with axes.prop_cycle; please use the latter.\n",
      "  warnings.warn(self.msg_depr % (key, alt_key))\n"
     ]
    }
   ],
   "source": [
    "%matplotlib inline\n",
    "\n",
    "import random\n",
    "import itertools\n",
    "\n",
    "import numpy as np\n",
    "import pandas as pd\n",
    "import patsy\n",
    "from sklearn.base import BaseEstimator, TransformerMixin\n",
    "from sklearn.cross_validation import train_test_split\n",
    "from sklearn.pipeline import Pipeline\n",
    "from sklearn.tree import DecisionTreeRegressor\n",
    "from sklearn.ensemble import RandomForestClassifier\n",
    "from sklearn.grid_search import GridSearchCV\n",
    "from sklearn.externals import joblib\n",
    "from sklearn.metrics import accuracy_score, roc_auc_score, roc_curve\n",
    "import matplotlib.pyplot as plt\n",
    "import seaborn as sns; sns.set()\n",
    "\n",
    "from util import get_random_seed"
   ]
  },
  {
   "cell_type": "code",
   "execution_count": 2,
   "metadata": {
    "collapsed": false,
    "scrolled": true
   },
   "outputs": [
    {
     "name": "stdout",
     "output_type": "stream",
     "text": [
      "np.random.seed: 268326440\n",
      "random.seed: 2292115313\n"
     ]
    }
   ],
   "source": [
    "random_seed = get_random_seed()\n",
    "print('np.random.seed:', random_seed)\n",
    "np.random.seed(random_seed)\n",
    "\n",
    "random_seed = get_random_seed()\n",
    "print('random.seed:', random_seed)\n",
    "random.seed(random_seed)"
   ]
  },
  {
   "cell_type": "markdown",
   "metadata": {},
   "source": [
    "## Create training and test samples"
   ]
  },
  {
   "cell_type": "code",
   "execution_count": 3,
   "metadata": {
    "collapsed": false
   },
   "outputs": [
    {
     "name": "stdout",
     "output_type": "stream",
     "text": [
      "Train: 800 observations\n",
      "Test: 89 observations\n"
     ]
    }
   ],
   "source": [
    "data = pd.read_csv('clean_data/train.csv')\n",
    "\n",
    "train, test = train_test_split(data, train_size=0.9)\n",
    "print('Train:', train.shape[0], 'observations')\n",
    "print('Test:', test.shape[0], 'observations')\n",
    "\n",
    "formula = 'Survived ~ Embarked + Class + Fare + Sex + Age + Relatives - 1'\n",
    "y_train, X_train = patsy.dmatrices(formula, train, NA_action='raise')\n",
    "y_test, X_test = patsy.dmatrices(formula, test, NA_action='raise')"
   ]
  },
  {
   "cell_type": "markdown",
   "metadata": {},
   "source": [
    "## Build the model pipeline"
   ]
  },
  {
   "cell_type": "code",
   "execution_count": 4,
   "metadata": {
    "collapsed": false
   },
   "outputs": [
    {
     "data": {
      "text/html": [
       "<div>\n",
       "<table border=\"1\" class=\"dataframe\">\n",
       "  <thead>\n",
       "    <tr style=\"text-align: right;\">\n",
       "      <th></th>\n",
       "      <th>Variable</th>\n",
       "    </tr>\n",
       "  </thead>\n",
       "  <tbody>\n",
       "    <tr>\n",
       "      <th>0</th>\n",
       "      <td>Embarked[Cherbourg]</td>\n",
       "    </tr>\n",
       "    <tr>\n",
       "      <th>1</th>\n",
       "      <td>Embarked[Queenstown]</td>\n",
       "    </tr>\n",
       "    <tr>\n",
       "      <th>2</th>\n",
       "      <td>Embarked[Southampton]</td>\n",
       "    </tr>\n",
       "    <tr>\n",
       "      <th>3</th>\n",
       "      <td>Class[T.second]</td>\n",
       "    </tr>\n",
       "    <tr>\n",
       "      <th>4</th>\n",
       "      <td>Class[T.third]</td>\n",
       "    </tr>\n",
       "    <tr>\n",
       "      <th>5</th>\n",
       "      <td>Sex[T.male]</td>\n",
       "    </tr>\n",
       "    <tr>\n",
       "      <th>6</th>\n",
       "      <td>Fare</td>\n",
       "    </tr>\n",
       "    <tr>\n",
       "      <th>7</th>\n",
       "      <td>Age</td>\n",
       "    </tr>\n",
       "    <tr>\n",
       "      <th>8</th>\n",
       "      <td>Relatives</td>\n",
       "    </tr>\n",
       "  </tbody>\n",
       "</table>\n",
       "</div>"
      ],
      "text/plain": [
       "                Variable\n",
       "0    Embarked[Cherbourg]\n",
       "1   Embarked[Queenstown]\n",
       "2  Embarked[Southampton]\n",
       "3        Class[T.second]\n",
       "4         Class[T.third]\n",
       "5            Sex[T.male]\n",
       "6                   Fare\n",
       "7                    Age\n",
       "8              Relatives"
      ]
     },
     "execution_count": 4,
     "metadata": {},
     "output_type": "execute_result"
    }
   ],
   "source": [
    "pd.DataFrame({'Variable': X_train.design_info.column_names})"
   ]
  },
  {
   "cell_type": "code",
   "execution_count": 5,
   "metadata": {
    "collapsed": true
   },
   "outputs": [],
   "source": [
    "class ModelImputer(BaseEstimator, TransformerMixin):\n",
    "    \n",
    "    def __init__(self, model, y_column, X_columns=None):\n",
    "        self.model = model\n",
    "        self.y_column = y_column\n",
    "        self.X_columns = X_columns\n",
    "        \n",
    "    def _get_X_columns(self):\n",
    "        return (self.X_columns if self.X_columns else \n",
    "                [i for i in range(X.shape[1]) if i != self.y_column])\n",
    "\n",
    "    def fit(self, X, y=None):\n",
    "        complete = X[:, self.y_column] != -1\n",
    "        X_complete = X[complete, :]\n",
    "        X_columns = self._get_X_columns()\n",
    "        self.model.fit(X_complete[:, X_columns], X_complete[:, self.y_column])\n",
    "        return self\n",
    "\n",
    "    def transform(self, X):\n",
    "        missing = X[:, self.y_column] == -1\n",
    "        if missing.any():\n",
    "            X_missing = X[missing, :]\n",
    "            X_columns = self._get_X_columns()\n",
    "            y_imputed = self.model.predict(X_missing[:, X_columns])\n",
    "            X[missing, self.y_column] = y_imputed\n",
    "        return X\n",
    "\n",
    "\n",
    "pipeline = Pipeline([\n",
    "    ('fare_imputer', ModelImputer(DecisionTreeRegressor(), 6, [3, 4])),\n",
    "    ('age_imputer', ModelImputer(DecisionTreeRegressor(), 7)),\n",
    "    ('forest', RandomForestClassifier()),\n",
    "])"
   ]
  },
  {
   "cell_type": "markdown",
   "metadata": {},
   "source": [
    "## Fit the model parameters"
   ]
  },
  {
   "cell_type": "code",
   "execution_count": 6,
   "metadata": {
    "collapsed": false,
    "scrolled": true
   },
   "outputs": [
    {
     "name": "stdout",
     "output_type": "stream",
     "text": [
      "Best accuracy: 0.8375\n",
      "Best parameters: {'forest__n_estimators': 100, 'age_imputer__X_columns': [0, 1, 2, 6, 8]}\n"
     ]
    }
   ],
   "source": [
    "param_grid = {'forest__n_estimators': [10, 25, 50, 75, 100],\n",
    "              'age_imputer__X_columns': []}\n",
    "\n",
    "X_columns = [[0, 1, 2], [3, 4], [5], [6], [8]]\n",
    "for k in range(1, len(X_columns)):\n",
    "    k_combs = [list(itertools.chain(*c)) for c in itertools.combinations(X_columns, k)]\n",
    "    param_grid['age_imputer__X_columns'].extend(k_combs)\n",
    "    \n",
    "grid_search = GridSearchCV(pipeline, param_grid=param_grid, cv=10)\n",
    "grid_search.fit(X_train, y_train.ravel())\n",
    "\n",
    "print('Best accuracy:', grid_search.best_score_)\n",
    "print('Best parameters:', grid_search.best_params_)\n",
    "\n",
    "model = grid_search.best_estimator_\n",
    "joblib.dump(model, 'model/model.pickle');"
   ]
  },
  {
   "cell_type": "markdown",
   "metadata": {},
   "source": [
    "## Evaluation"
   ]
  },
  {
   "cell_type": "code",
   "execution_count": 7,
   "metadata": {
    "collapsed": false
   },
   "outputs": [
    {
     "name": "stdout",
     "output_type": "stream",
     "text": [
      "Accuracy: 0.752808988764\n"
     ]
    }
   ],
   "source": [
    "y_pred = model.predict(X_test)\n",
    "\n",
    "print('Accuracy:', accuracy_score(y_test, y_pred))"
   ]
  },
  {
   "cell_type": "code",
   "execution_count": 8,
   "metadata": {
    "collapsed": false
   },
   "outputs": [
    {
     "data": {
      "text/plain": [
       "<matplotlib.legend.Legend at 0x7f894c2d5f28>"
      ]
     },
     "execution_count": 8,
     "metadata": {},
     "output_type": "execute_result"
    },
    {
     "data": {
      "image/png": "[encoded data removed]",
      "text/plain": [
       "<matplotlib.figure.Figure at 0x7f894c85ca58>"
      ]
     },
     "metadata": {},
     "output_type": "display_data"
    }
   ],
   "source": [
    "y_proba = model.predict_proba(X_test)[:, 1]\n",
    "fpr, tpr, _ = roc_curve(y_test, y_proba)\n",
    "roc_auc = roc_auc_score(y_test, y_proba)\n",
    "\n",
    "plt.plot(fpr, tpr, label='ROC curve (area = %.2f)' % roc_auc)\n",
    "plt.plot([0, 1], [0, 1], 'k-')\n",
    "plt.xlim([0, 1])\n",
    "plt.ylim([0, 1])\n",
    "plt.xlabel('False Positive Rate')\n",
    "plt.ylabel('True Positive Rate')\n",
    "plt.title('ROC Curve')\n",
    "plt.legend(loc=\"lower right\")"
   ]
  }
 ],
 "metadata": {
  "kernelspec": {
   "display_name": "Python 3",
   "language": "python",
   "name": "python3"
  },
  "language_info": {
   "codemirror_mode": {
    "name": "ipython",
    "version": 3
   },
   "file_extension": ".py",
   "mimetype": "text/x-python",
   "name": "python",
   "nbconvert_exporter": "python",
   "pygments_lexer": "ipython3",
   "version": "3.4.2"
  }
 },
 "nbformat": 4,
 "nbformat_minor": 0
}
