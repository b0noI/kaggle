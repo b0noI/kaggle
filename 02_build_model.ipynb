{
 "cells": [
  {
   "cell_type": "markdown",
   "metadata": {},
   "source": [
    "# Building the model"
   ]
  },
  {
   "cell_type": "markdown",
   "metadata": {},
   "source": [
    "The model is an ensemble of:\n",
    "\n",
    "* a decision tree that tries to capture the [\"women and children first\"](https://en.wikipedia.org/wiki/Women_and_children_first) protocol,\n",
    "\n",
    "* a random forest classifier,\n",
    "\n",
    "* and logistic regression with L1 regularization.\n",
    "\n",
    "The predicted class is decided with majority voting. Decision trees are used first to impute missing `Fare` and `Age` values, see the model pipeline below."
   ]
  },
  {
   "cell_type": "code",
   "execution_count": 1,
   "metadata": {
    "collapsed": false,
    "scrolled": true
   },
   "outputs": [],
   "source": [
    "%matplotlib inline\n",
    "\n",
    "import random\n",
    "import itertools\n",
    "\n",
    "import numpy as np\n",
    "import pandas as pd\n",
    "import patsy\n",
    "from sklearn.pipeline import Pipeline, make_pipeline\n",
    "from sklearn.tree import DecisionTreeRegressor, DecisionTreeClassifier\n",
    "from sklearn.linear_model import LogisticRegression\n",
    "from sklearn.ensemble import RandomForestClassifier, VotingClassifier\n",
    "from sklearn.model_selection import GridSearchCV\n",
    "\n",
    "from util import get_random_seed, ModelImputer, FeatureSelector"
   ]
  },
  {
   "cell_type": "markdown",
   "metadata": {},
   "source": [
    "## Random seeds"
   ]
  },
  {
   "cell_type": "code",
   "execution_count": 2,
   "metadata": {
    "collapsed": false,
    "scrolled": true
   },
   "outputs": [
    {
     "name": "stdout",
     "output_type": "stream",
     "text": [
      "np.random.seed: 643783166\n",
      "random.seed: 434102240\n"
     ]
    }
   ],
   "source": [
    "random_seed = get_random_seed()\n",
    "print('np.random.seed:', random_seed)\n",
    "np.random.seed(random_seed)\n",
    "\n",
    "random_seed = get_random_seed()\n",
    "print('random.seed:', random_seed)\n",
    "random.seed(random_seed)"
   ]
  },
  {
   "cell_type": "markdown",
   "metadata": {},
   "source": [
    "## Load training data"
   ]
  },
  {
   "cell_type": "code",
   "execution_count": 3,
   "metadata": {
    "collapsed": false
   },
   "outputs": [],
   "source": [
    "train_data = pd.read_csv('clean_data/train.csv')\n",
    "\n",
    "formula = 'Survived ~ Embarked + Class + Cabin + Fare + Sex + Age + Relatives - 1'\n",
    "y_train, X_train = patsy.dmatrices(formula, train_data, NA_action='raise')"
   ]
  },
  {
   "cell_type": "markdown",
   "metadata": {},
   "source": [
    "Print the indices of the variables (used as `ModelImputer` parameters below)."
   ]
  },
  {
   "cell_type": "code",
   "execution_count": 4,
   "metadata": {
    "collapsed": false
   },
   "outputs": [
    {
     "data": {
      "text/html": [
       "<div>\n",
       "<table border=\"1\" class=\"dataframe\">\n",
       "  <thead>\n",
       "    <tr style=\"text-align: right;\">\n",
       "      <th></th>\n",
       "      <th>Variable</th>\n",
       "    </tr>\n",
       "  </thead>\n",
       "  <tbody>\n",
       "    <tr>\n",
       "      <th>0</th>\n",
       "      <td>Embarked[Cherbourg]</td>\n",
       "    </tr>\n",
       "    <tr>\n",
       "      <th>1</th>\n",
       "      <td>Embarked[Queenstown]</td>\n",
       "    </tr>\n",
       "    <tr>\n",
       "      <th>2</th>\n",
       "      <td>Embarked[Southampton]</td>\n",
       "    </tr>\n",
       "    <tr>\n",
       "      <th>3</th>\n",
       "      <td>Class[T.second]</td>\n",
       "    </tr>\n",
       "    <tr>\n",
       "      <th>4</th>\n",
       "      <td>Class[T.third]</td>\n",
       "    </tr>\n",
       "    <tr>\n",
       "      <th>5</th>\n",
       "      <td>Cabin[T.B]</td>\n",
       "    </tr>\n",
       "    <tr>\n",
       "      <th>6</th>\n",
       "      <td>Cabin[T.C]</td>\n",
       "    </tr>\n",
       "    <tr>\n",
       "      <th>7</th>\n",
       "      <td>Cabin[T.D]</td>\n",
       "    </tr>\n",
       "    <tr>\n",
       "      <th>8</th>\n",
       "      <td>Cabin[T.E]</td>\n",
       "    </tr>\n",
       "    <tr>\n",
       "      <th>9</th>\n",
       "      <td>Cabin[T.F]</td>\n",
       "    </tr>\n",
       "    <tr>\n",
       "      <th>10</th>\n",
       "      <td>Cabin[T.G]</td>\n",
       "    </tr>\n",
       "    <tr>\n",
       "      <th>11</th>\n",
       "      <td>Cabin[T.T]</td>\n",
       "    </tr>\n",
       "    <tr>\n",
       "      <th>12</th>\n",
       "      <td>Cabin[T.Unknown]</td>\n",
       "    </tr>\n",
       "    <tr>\n",
       "      <th>13</th>\n",
       "      <td>Sex[T.male]</td>\n",
       "    </tr>\n",
       "    <tr>\n",
       "      <th>14</th>\n",
       "      <td>Fare</td>\n",
       "    </tr>\n",
       "    <tr>\n",
       "      <th>15</th>\n",
       "      <td>Age</td>\n",
       "    </tr>\n",
       "    <tr>\n",
       "      <th>16</th>\n",
       "      <td>Relatives</td>\n",
       "    </tr>\n",
       "  </tbody>\n",
       "</table>\n",
       "</div>"
      ],
      "text/plain": [
       "                 Variable\n",
       "0     Embarked[Cherbourg]\n",
       "1    Embarked[Queenstown]\n",
       "2   Embarked[Southampton]\n",
       "3         Class[T.second]\n",
       "4          Class[T.third]\n",
       "5              Cabin[T.B]\n",
       "6              Cabin[T.C]\n",
       "7              Cabin[T.D]\n",
       "8              Cabin[T.E]\n",
       "9              Cabin[T.F]\n",
       "10             Cabin[T.G]\n",
       "11             Cabin[T.T]\n",
       "12       Cabin[T.Unknown]\n",
       "13            Sex[T.male]\n",
       "14                   Fare\n",
       "15                    Age\n",
       "16              Relatives"
      ]
     },
     "execution_count": 4,
     "metadata": {},
     "output_type": "execute_result"
    }
   ],
   "source": [
    "pd.DataFrame({'Variable': X_train.design_info.column_names})"
   ]
  },
  {
   "cell_type": "markdown",
   "metadata": {},
   "source": [
    "## Build the model pipeline"
   ]
  },
  {
   "cell_type": "code",
   "execution_count": 5,
   "metadata": {
    "collapsed": false
   },
   "outputs": [],
   "source": [
    "complete_variables = [i for i in range(17) if i not in (14, 15)]\n",
    "\n",
    "ensemble = VotingClassifier(voting='hard', estimators=[\n",
    "    ('women_and_children', make_pipeline(FeatureSelector([13, 15]), DecisionTreeClassifier())),\n",
    "    ('rf', RandomForestClassifier()), \n",
    "    ('lr', LogisticRegression(penalty='l1')),\n",
    "])\n",
    "\n",
    "pipeline = Pipeline([\n",
    "    ('fare_imputer', ModelImputer(DecisionTreeRegressor(), 14, complete_variables)),\n",
    "    ('age_imputer', ModelImputer(DecisionTreeRegressor(), 15, complete_variables)),\n",
    "    ('ensemble', ensemble),\n",
    "])"
   ]
  },
  {
   "cell_type": "markdown",
   "metadata": {},
   "source": [
    "## Estimate the model parameters"
   ]
  },
  {
   "cell_type": "code",
   "execution_count": 6,
   "metadata": {
    "collapsed": false,
    "scrolled": false
   },
   "outputs": [
    {
     "name": "stdout",
     "output_type": "stream",
     "text": [
      "Fitting 10 folds for each of 270 candidates, totalling 2700 fits\n"
     ]
    },
    {
     "name": "stderr",
     "output_type": "stream",
     "text": [
      "[Parallel(n_jobs=4)]: Done 268 tasks      | elapsed:    8.5s\n",
      "[Parallel(n_jobs=4)]: Done 868 tasks      | elapsed:   26.7s\n",
      "[Parallel(n_jobs=4)]: Done 1868 tasks      | elapsed:  1.0min\n",
      "[Parallel(n_jobs=4)]: Done 2700 out of 2700 | elapsed:  1.5min finished\n"
     ]
    },
    {
     "name": "stdout",
     "output_type": "stream",
     "text": [
      "Best accuracy: 0.834645669291\n",
      "Best parameters: {'ensemble__rf__n_estimators': 10, 'ensemble__lr__C': 1.3738237958832638}\n"
     ]
    }
   ],
   "source": [
    "param_grid = {\n",
    "    'ensemble__rf__n_estimators': np.arange(10, 100, 10),\n",
    "    'ensemble__lr__C': np.logspace(-4, 4, 30),\n",
    "}\n",
    "\n",
    "model = GridSearchCV(pipeline, param_grid=param_grid, cv=10, n_jobs=4, verbose=1)\n",
    "model.fit(np.asarray(X_train), np.asarray(y_train.ravel()))\n",
    "\n",
    "print('Best accuracy:', model.best_score_)\n",
    "print('Best parameters:', model.best_params_)"
   ]
  },
  {
   "cell_type": "markdown",
   "metadata": {},
   "source": [
    "## Create a submission"
   ]
  },
  {
   "cell_type": "code",
   "execution_count": 7,
   "metadata": {
    "collapsed": false
   },
   "outputs": [],
   "source": [
    "test_data = pd.read_csv('clean_data/test.csv')\n",
    "\n",
    "X_test = patsy.build_design_matrices([X_train.design_info], test_data, NA_action='raise')[0]\n",
    "y_test = model.predict(X_test)\n",
    "\n",
    "submission = pd.DataFrame({'PassengerId': test_data['PassengerId'], 'Survived': y_test}, dtype=int)\n",
    "submission.to_csv('submission/submission.csv', index=False)"
   ]
  }
 ],
 "metadata": {
  "kernelspec": {
   "display_name": "Python 3",
   "language": "python",
   "name": "python3"
  },
  "language_info": {
   "codemirror_mode": {
    "name": "ipython",
    "version": 3
   },
   "file_extension": ".py",
   "mimetype": "text/x-python",
   "name": "python",
   "nbconvert_exporter": "python",
   "pygments_lexer": "ipython3",
   "version": "3.4.2"
  }
 },
 "nbformat": 4,
 "nbformat_minor": 0
}
