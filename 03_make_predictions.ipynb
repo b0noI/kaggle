{
 "cells": [
  {
   "cell_type": "markdown",
   "metadata": {},
   "source": [
    "# Predictions"
   ]
  },
  {
   "cell_type": "code",
   "execution_count": 1,
   "metadata": {
    "collapsed": true
   },
   "outputs": [],
   "source": [
    "import pandas as pd\n",
    "import patsy\n",
    "from sklearn.externals import joblib\n",
    "\n",
    "from util import ModelImputer"
   ]
  },
  {
   "cell_type": "code",
   "execution_count": 2,
   "metadata": {
    "collapsed": false
   },
   "outputs": [],
   "source": [
    "data = pd.read_csv('clean_data/test.csv')\n",
    "model = joblib.load('model/model.pickle')\n",
    "\n",
    "formula = 'Embarked + Class + Fare + Sex + Age + Relatives - 1'\n",
    "X_test = patsy.dmatrix(formula, data, NA_action='raise')\n",
    "y_test = model.predict(X_test)\n",
    "\n",
    "predictions = pd.DataFrame({'PassengerId': data['PassengerId'], 'Survived': y_test}, dtype=int)\n",
    "predictions.to_csv('predictions/predictions.csv', index=False)"
   ]
  }
 ],
 "metadata": {
  "kernelspec": {
   "display_name": "Python 3",
   "language": "python",
   "name": "python3"
  },
  "language_info": {
   "codemirror_mode": {
    "name": "ipython",
    "version": 3
   },
   "file_extension": ".py",
   "mimetype": "text/x-python",
   "name": "python",
   "nbconvert_exporter": "python",
   "pygments_lexer": "ipython3",
   "version": "3.4.2"
  }
 },
 "nbformat": 4,
 "nbformat_minor": 0
}
