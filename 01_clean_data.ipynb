{
 "cells": [
  {
   "cell_type": "markdown",
   "metadata": {},
   "source": [
    "# Data cleaning"
   ]
  },
  {
   "cell_type": "markdown",
   "metadata": {},
   "source": [
    "Load the training and test data sets from `raw_data/`, apply transformations and write the new data sets in `clean_data/`."
   ]
  },
  {
   "cell_type": "code",
   "execution_count": 1,
   "metadata": {
    "collapsed": true
   },
   "outputs": [],
   "source": [
    "import pandas as pd"
   ]
  },
  {
   "cell_type": "code",
   "execution_count": 2,
   "metadata": {
    "collapsed": false
   },
   "outputs": [],
   "source": [
    "raw_columns = ['PassengerId', 'Embarked', 'Pclass', 'Fare', 'Sex', 'Age', 'SibSp', 'Parch']"
   ]
  },
  {
   "cell_type": "code",
   "execution_count": 3,
   "metadata": {
    "collapsed": true
   },
   "outputs": [],
   "source": [
    "def transform_data(df):\n",
    "    # Discard observations with missing Embarked values\n",
    "    df.dropna(subset=['Embarked'], inplace=True)\n",
    "    # Set missing Age and Fare values to -1 (easier to pass them through patsy)\n",
    "    df.loc[df['Age'].isnull(), 'Age'] = -1\n",
    "    df.loc[df['Fare'].isnull(), 'Fare'] = -1\n",
    "    # Combine SibSp and Parch into a single variable\n",
    "    df['Relatives'] = df['SibSp'] + df['Parch']\n",
    "    df.drop(['SibSp', 'Parch'], axis=1, inplace=True)\n",
    "    # Cleanup Pclass and Embarked\n",
    "    df['Class'] = df['Pclass'].map({1: 'first', 2: 'second', 3: 'third'})\n",
    "    df.drop('Pclass', axis=1, inplace=True)\n",
    "    df['Embarked'] = df['Embarked'].map({'C': 'Cherbourg', 'Q': 'Queenstown', 'S': 'Southampton'})"
   ]
  },
  {
   "cell_type": "code",
   "execution_count": 4,
   "metadata": {
    "collapsed": true
   },
   "outputs": [],
   "source": [
    "clean_columns = ['PassengerId', 'Embarked', 'Class', 'Fare', 'Sex','Age', 'Relatives']"
   ]
  },
  {
   "cell_type": "markdown",
   "metadata": {},
   "source": [
    "## Training data set"
   ]
  },
  {
   "cell_type": "code",
   "execution_count": 5,
   "metadata": {
    "collapsed": false,
    "scrolled": true
   },
   "outputs": [],
   "source": [
    "train_data = pd.read_csv('raw_data/train.csv', usecols=raw_columns + ['Survived'])\n",
    "\n",
    "transform_data(train_data)\n",
    "\n",
    "train_data = train_data[clean_columns + ['Survived']]\n",
    "train_data.to_csv('clean_data/train.csv', index=False)"
   ]
  },
  {
   "cell_type": "markdown",
   "metadata": {},
   "source": [
    "## Test data set"
   ]
  },
  {
   "cell_type": "code",
   "execution_count": 6,
   "metadata": {
    "collapsed": true
   },
   "outputs": [],
   "source": [
    "test_data = pd.read_csv('raw_data/test.csv', usecols=raw_columns)\n",
    "\n",
    "transform_data(test_data)\n",
    "\n",
    "test_data = test_data[clean_columns]\n",
    "test_data.to_csv('clean_data/test.csv', index=False)"
   ]
  }
 ],
 "metadata": {
  "kernelspec": {
   "display_name": "Python 3",
   "language": "python",
   "name": "python3"
  },
  "language_info": {
   "codemirror_mode": {
    "name": "ipython",
    "version": 3
   },
   "file_extension": ".py",
   "mimetype": "text/x-python",
   "name": "python",
   "nbconvert_exporter": "python",
   "pygments_lexer": "ipython3",
   "version": "3.4.2"
  }
 },
 "nbformat": 4,
 "nbformat_minor": 0
}
